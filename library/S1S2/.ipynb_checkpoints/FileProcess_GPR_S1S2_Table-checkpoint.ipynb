{
 "cells": [
  {
   "cell_type": "code",
   "execution_count": 26,
   "metadata": {},
   "outputs": [
    {
     "name": "stdout",
     "output_type": "stream",
     "text": [
      "掌子面桩号   K1+483（右幅进口）\n",
      "岩性   黄色、褐黄色坡残积体\n",
      "岩层产状   \\\n",
      "风化程度   强\n",
      "地下水状态   潮湿或滴水\n",
      "初始应力状态   高应力区（硬岩偶有岩爆；软岩位移显著）\n",
      "毛洞稳定情况   拱顶有坍塌侧壁失稳\n",
      "岩体出露状态   断层带\n"
     ]
    }
   ],
   "source": [
    "# 导入文件s1s2\n",
    "from docx import Document\n",
    "import sys\n",
    "import csv\n",
    "sys.path.append(\"..\")\n",
    "from FileProcessBasic import FileProcessBasic\n",
    "\n",
    "class FileProcess_GPR_S1S2_Table(FileProcessBasic):\n",
    "    def __init__(self):\n",
    "        self.followed=[]\n",
    "        self.checked=[]\n",
    "        self.dic={}\n",
    "\n",
    "    # 查找关键字\n",
    "    def findKeywords(self):\n",
    "        # 单元格后紧跟结果所在行，列\n",
    "        self.followed=[[0,2],[1,0],[1,2]]\n",
    "        # 单元格后选择结果所在行\n",
    "        self.checked=[2,13,14,15,16,17]\n",
    "    \n",
    "    # 寻找上下文\n",
    "    def findContent(self,table):\n",
    "        # 获取单元格后紧跟结果类型\n",
    "        for i in range(len(self.followed)):\n",
    "            row=self.followed[i][0]\n",
    "            name=self.followed[i][1]\n",
    "            tmp=list(table.rows[row].cells)\n",
    "            cols=sorted(set(tmp),key=tmp.index)\n",
    "            self.dic[cols[name].text.replace(' ','')]=cols[name+1].text\n",
    "            \n",
    "        # 获取单元格后选择结果类型\n",
    "        for i in self.checked:\n",
    "            tmp=list(table.rows[i].cells)\n",
    "            cols=sorted(set(tmp),key=tmp.index)\n",
    "            name=cols[0].text.replace(' ','')\n",
    "            for col in cols:\n",
    "                if col.text.find('√')>0:\n",
    "                    col.text=col.text.replace('√','')\n",
    "                    self.dic[name]=col.text\n",
    "                    break\n",
    "\n",
    "    # 后续的处理\n",
    "    def subsequentProcess(self,output):\n",
    "        for key,value in self.dic.items():\n",
    "            print(key,' ',value)\n",
    "        with open(output+'/mycsvfile.csv', 'w',encoding='utf8',newline='') as f:  # Just use 'w' mode in 3.x\n",
    "            w = csv.DictWriter(f, self.dic.keys())\n",
    "            w.writeheader()\n",
    "            w.writerow(self.dic)\n",
    "\n",
    "    def run(self,inputpath,ouputpath):\n",
    "        table=Document(inputpath).tables[2]\n",
    "        self.findKeywords();\n",
    "        self.findContent(table)\n",
    "        self.subsequentProcess(outputpath)\n",
    "\n",
    "test=FileProcess_GPR_S1S2_Table()\n",
    "inputpath=\"D:/Death in TJU/Junior_2nd/iS3 Lab2/tasks/task3/GPRS1S2.docx\"\n",
    "outputpath=\"D:/Death in TJU/Junior_2nd/iS3 Lab2/tasks/task3\"\n",
    "test.run(inputpath,outputpath)\n",
    "\n"
   ]
  },
  {
   "cell_type": "code",
   "execution_count": null,
   "metadata": {},
   "outputs": [],
   "source": []
  }
 ],
 "metadata": {
  "kernelspec": {
   "display_name": "Python 3",
   "language": "python",
   "name": "python3"
  },
  "language_info": {
   "codemirror_mode": {
    "name": "ipython",
    "version": 3
   },
   "file_extension": ".py",
   "mimetype": "text/x-python",
   "name": "python",
   "nbconvert_exporter": "python",
   "pygments_lexer": "ipython3",
   "version": "3.7.6"
  }
 },
 "nbformat": 4,
 "nbformat_minor": 4
}
